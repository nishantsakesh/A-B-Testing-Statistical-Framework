{
 "cells": [
  {
   "cell_type": "markdown",
   "id": "9c3f05ee",
   "metadata": {},
   "source": [
    "# A/B Testing Statistical Framework: Demo & Scenarios\n",
    "\n",
    "This notebook demonstrates how to use the `ab_testing_framework` to design, run, and analyze A/B tests correctly. We will cover common scenarios and pitfalls."
   ]
  },
  {
   "cell_type": "markdown",
   "id": "46009f23",
   "metadata": {},
   "source": [
    "## 1. Importing the Framework\n",
    "\n",
    "First, let's import the classes from our `ab_testing_framework.py` file."
   ]
  },
  {
   "cell_type": "code",
   "execution_count": null,
   "id": "c5f358d2",
   "metadata": {},
   "outputs": [],
   "source": [
    "import numpy as np\n",
    "import pandas as pd\n",
    "from ab_testing_framework import (\n",
    "    SampleSizeCalculator,\n",
    "    HypothesisTester,\n",
    "    EffectSizeCalculator,\n",
    "    MultipleTesting,\n",
    "    Visualizer,\n",
    "    Utils\n",
    ")\n",
    "\n",
    "# Set default test parameters\n",
    "ALPHA = 0.05\n",
    "POWER = 0.80\n",
    "\n",
    "# Instantiate our tools\n",
    "calculator = SampleSizeCalculator(alpha=ALPHA, power=POWER)\n",
    "tester = HypothesisTester(alpha=ALPHA)\n",
    "effect_calc = EffectSizeCalculator()\n",
    "viz = Visualizer()\n",
    "utils = Utils()"
   ]
  },
  {
   "cell_type": "markdown",
   "id": "6bdb259b",
   "metadata": {},
   "source": [
    "## 2. Part 1: Designing an Experiment (Sample Size)\n",
    "\n",
    "Before running a test, we MUST determine the sample size. Running a test without this step (i.e., \"peeking\" at results) is the #1 mistake in A/B testing and leads to false positives."
   ]
  },
  {
   "cell_type": "code",
   "execution_count": null,
   "id": "13f77153",
   "metadata": {},
   "outputs": [],
   "source": [
    "baseline_rate = 0.10  # 10% CVR\n",
    "mde_relative = 0.10   # We want to detect a 10% lift (i.e., from 10% to 11%)\n",
    "mde_absolute = 0.01    # This is 11% - 10%\n",
    "\n",
    "sample_size_needed = calculator.calculate_sample_size(\n",
    "    baseline_rate=baseline_rate, \n",
    "    mde_absolute=mde_absolute\n",
    ")\n",
    "\n",
    "print(f\"Baseline Rate: {baseline_rate*100:.0f}%\")\n",
    "print(f\"Absolute MDE: {mde_absolute*100:.1f}%\")\n",
    "print(f\"Required sample size per variant (Alpha={ALPHA}, Power={POWER}): {sample_size_needed:,}\")"
   ]
  },
  {
   "cell_type": "code",
   "execution_count": null,
   "id": "fbdb235c",
   "metadata": {},
   "outputs": [],
   "source": [
    "# We can also visualize the power curve\n",
    "fig = viz.plot_power_curve(baseline_rate=0.10, mde=0.01, max_n=50000)\n",
    "fig.show()"
   ]
  },
  {
   "cell_type": "markdown",
   "id": "01efe514",
   "metadata": {},
   "source": [
    "## 3. Part 2: Analyzing 12 Test Scenarios\n",
    "\n",
    "Let's simulate various scenarios to see how our framework performs."
   ]
  },
  {
   "cell_type": "code",
   "execution_count": null,
   "id": "aacd9711",
   "metadata": {},
   "outputs": [],
   "source": [
    "def run_and_print_analysis(scenario_name, n_a, n_b, conv_a, conv_b, mde_abs=0.01):\n",
    "    \"\"\"Helper function to run and print a full test analysis.\"\"\"\n",
    "    print(f\"\\n--- SCENARIO: {scenario_name} ---\")\n",
    "    rate_a = conv_a / n_a\n",
    "    rate_b = conv_b / n_b\n",
    "    \n",
    "    print(f\"Control:   {conv_a:,} / {n_a:,} (Rate: {rate_a:.2%})\")\n",
    "    print(f\"Treatment: {conv_b:,} / {n_b:,} (Rate: {rate_b:.2%})\")\n",
    "    print(f\"Observed Lift: {rate_b - rate_a:+.2%}\")\n",
    "\n",
    "    # 1. Hypothesis Test\n",
    "    test_results = tester.proportion_z_test(conv_a, n_a, conv_b, n_b)\n",
    "    \n",
    "    # 2. Confidence Interval\n",
    "    ci = tester.confidence_interval(conv_a, n_a, conv_b, n_b)\n",
    "    \n",
    "    # 3. Effect Size\n",
    "    effect_size = effect_calc.cohens_h(rate_a, rate_b)\n",
    "    \n",
    "    # 4. Interpretation\n",
    "    stat_msg, prac_msg, color = utils.interpret_results(test_results, ci, mde_abs)\n",
    "    \n",
    "    print(f\"Z-Test Results: {test_results}\")\n",
    "    print(f\"Confidence Interval: [{ci[0]:.2%}, {ci[1]:.2%}]\")\n",
    "    print(f\"Effect Size (Cohen's h): {effect_size:.3f}\")\n",
    "    print(f\"\\nInterpretation (Color: {color}):\")\n",
    "    print(f\"- {stat_msg}\")\n",
    "    print(f\"- {prac_msg}\")\n",
    "    \n",
    "    # 5. Visualization\n",
    "    fig = viz.plot_confidence_interval(ci[0], ci[1], rate_a, rate_b, mde_abs)\n",
    "    fig.show()"
   ]
  },
  {
   "cell_type": "markdown",
   "id": "38fcf039",
   "metadata": {},
   "source": [
    "### Scenario 1: Clear True Positive (Landing Page)\n",
    "- **Setup:** 10% control CVR. True lift is 2% (to 12%). We have *more* than enough power.\n",
    "- **Expected:** Statistically & Practically Significant."
   ]
  },
  {
   "cell_type": "code",
   "execution_count": null,
   "id": "9f5bf31b",
   "metadata": {},
   "outputs": [],
   "source": [
    "n = 30000\n",
    "c_a, n_a = utils.generate_synthetic_data(n, 0.10)\n",
    "c_b, n_b = utils.generate_synthetic_data(n, 0.12)\n",
    "run_and_print_analysis(\"1. True Positive\", n_a, n_b, c_a, c_b, mde_abs=0.01)"
   ]
  },
  {
   "cell_type": "markdown",
   "id": "47f58eeb",
   "metadata": {},
   "source": [
    "### Scenario 2: Underpowered (Button Color)\n",
    "- **Setup:** 10% control CVR. True lift is 0.5% (to 10.5%). We use a small sample size.\n",
    "- **Expected:** Not Statistically Significant (even if a real effect exists). A **Type II Error (False Negative)**."
   ]
  },
  {
   "cell_type": "code",
   "execution_count": null,
   "id": "95e27ecf",
   "metadata": {},
   "outputs": [],
   "source": [
    "n = 500\n",
    "c_a, n_a = utils.generate_synthetic_data(n, 0.10)\n",
    "c_b, n_b = utils.generate_synthetic_data(n, 0.105)\n",
    "run_and_print_analysis(\"2. Underpowered (False Negative)\", n_a, n_b, c_a, c_b, mde_abs=0.01)"
   ]
  },
  {
   "cell_type": "markdown",
   "id": "55bad306",
   "metadata": {},
   "source": [
    "### Scenario 3: Clear True Negative\n",
    "- **Setup:** 10% control CVR. True lift is 0% (to 10%). We have a large sample size.\n",
    "- **Expected:** Not Statistically Significant. CI should be tight around 0."
   ]
  },
  {
   "cell_type": "code",
   "execution_count": null,
   "id": "1c14ca11",
   "metadata": {},
   "outputs": [],
   "source": [
    "n = 30000\n",
    "c_a, n_a = utils.generate_synthetic_data(n, 0.10)\n",
    "c_b, n_b = utils.generate_synthetic_data(n, 0.10)\n",
    "run_and_print_analysis(\"3. True Negative\", n_a, n_b, c_a, c_b, mde_abs=0.01)"
   ]
  },
  {
   "cell_type": "markdown",
   "id": "a38eb38f",
   "metadata": {},
   "source": [
    "### Scenario 4: False Positive (By Chance)\n",
    "- **Setup:** 10% control CVR. True lift is 0%. We run 100 tests and find one where p < 0.05 by luck.\n",
    "- **Expected:** A **Type I Error (False Positive)**. This is what Alpha=0.05 means (5% of true negatives will look positive)."
   ]
  },
  {
   "cell_type": "code",
   "execution_count": null,
   "id": "c644225d",
   "metadata": {},
   "outputs": [],
   "source": [
    "print(\"Running 100 simulations to find a False Positive...\")\n",
    "n = 2000 # Small sample size makes it more volatile\n",
    "found_fp = False\n",
    "for i in range(100):\n",
    "    c_a, n_a = utils.generate_synthetic_data(n, 0.10)\n",
    "    c_b, n_b = utils.generate_synthetic_data(n, 0.10)\n",
    "    \n",
    "    test_results = tester.proportion_z_test(c_a, n_a, c_b, n_b)\n",
    "    \n",
    "    if test_results['is_significant']:\n",
    "        print(f\"Found False Positive on run {i+1}!\")\n",
    "        run_and_print_analysis(\"4. False Positive (Type I Error)\", n_a, n_b, c_a, c_b, mde_abs=0.01)\n",
    "        found_fp = True\n",
    "        break\n",
    "\n",
    "if not found_fp:\n",
    "    print(\"Did not find a false positive in 100 runs. This is also normal!\")"
   ]
  },
  {
   "cell_type": "markdown",
   "id": "96bc6e12",
   "metadata": {},
   "source": [
    "### Scenario 5: Statistically Significant, NOT Practically Significant\n",
    "- **Setup:** 10% control CVR. True lift is 0.1% (to 10.1%). We use a *massive* sample size (e.g., 1,000,000).\n",
    "- **Expected:** Statistically Significant (p < 0.05) but CI is below our MDE of 1%. This is a \"who cares?\" result."
   ]
  },
  {
   "cell_type": "code",
   "execution_count": null,
   "id": "d77f88cd",
   "metadata": {},
   "outputs": [],
   "source": [
    "n = 1000000\n",
    "c_a, n_a = utils.generate_synthetic_data(n, 0.100)\n",
    "c_b, n_b = utils.generate_synthetic_data(n, 0.101)\n",
    "run_and_print_analysis(\"5. Stat. Sig, Not Practical Sig.\", n_a, n_b, c_a, c_b, mde_abs=0.01)"
   ]
  },
  {
   "cell_type": "markdown",
   "id": "d17a19f1",
   "metadata": {},
   "source": [
    "### Scenario 6: Unequal Sample Sizes\n",
    "- **Setup:** 10% control CVR. True lift is 2% (to 12%). Control has 2x sample of Treatment.\n",
    "- **Expected:** Still significant. Our formulas handle unequal N."
   ]
  },
  {
   "cell_type": "code",
   "execution_count": null,
   "id": "651b47d4",
   "metadata": {},
   "outputs": [],
   "source": [
    "c_a, n_a = utils.generate_synthetic_data(40000, 0.10)\n",
    "c_b, n_b = utils.generate_synthetic_data(20000, 0.12)\n",
    "run_and_print_analysis(\"6. Unequal Sample Sizes\", n_a, n_b, c_a, c_b, mde_abs=0.01)"
   ]
  },
  {
   "cell_type": "markdown",
   "id": "4cb9051d",
   "metadata": {},
   "source": [
    "### Scenario 7: Very Low Conversion Rate\n",
    "- **Setup:** 0.5% control CVR. We want to detect a 20% relative lift (to 0.6%).\n",
    "- **Expected:** Requires *much* larger sample sizes."
   ]
  },
  {
   "cell_type": "code",
   "execution_count": null,
   "id": "f5cc69d2",
   "metadata": {},
   "outputs": [],
   "source": [
    "baseline_low = 0.005\n",
    "mde_abs_low = 0.001 # 0.6% - 0.5%\n",
    "\n",
    "sample_size_low = calculator.calculate_sample_size(\n",
    "    baseline_rate=baseline_low, \n",
    "    mde_absolute=mde_abs_low\n",
    ")\n",
    "print(f\"Required sample size for low CVR test: {sample_size_low:,}\")\n",
    "\n",
    "c_a, n_a = utils.generate_synthetic_data(sample_size_low, baseline_low)\n",
    "c_b, n_b = utils.generate_synthetic_data(sample_size_low, baseline_low + mde_abs_low)\n",
    "run_and_print_analysis(\"7. Low CVR Test\", n_a, n_b, c_a, c_b, mde_abs=mde_abs_low)"
   ]
  },
  {
   "cell_type": "markdown",
   "id": "251dd88b",
   "metadata": {},
   "source": [
    "### Scenario 8: Very High Conversion Rate\n",
    "- **Setup:** 50% control CVR. We want to detect a 5% relative lift (to 52.5%).\n",
    "- **Expected:** Requires smaller sample sizes than the 10% baseline case."
   ]
  },
  {
   "cell_type": "code",
   "execution_count": null,
   "id": "14785919",
   "metadata": {},
   "outputs": [],
   "source": [
    "baseline_high = 0.50\n",
    "mde_abs_high = 0.025 # 52.5% - 50%\n",
    "\n",
    "sample_size_high = calculator.calculate_sample_size(\n",
    "    baseline_rate=baseline_high, \n",
    "    mde_absolute=mde_abs_high\n",
    ")\n",
    "print(f\"Required sample size for high CVR test: {sample_size_high:,}\")\n",
    "\n",
    "c_a, n_a = utils.generate_synthetic_data(sample_size_high, baseline_high)\n",
    "c_b, n_b = utils.generate_synthetic_data(sample_size_high, baseline_high + mde_abs_high)\n",
    "run_and_print_analysis(\"8. High CVR Test\", n_a, n_b, c_a, c_b, mde_abs=mde_abs_high)"
   ]
  },
  {
   "cell_type": "markdown",
   "id": "08a9f093",
   "metadata": {},
   "source": [
    "### Scenario 9: Chi-Square Test (Same as Z-Test)\n",
    "- **Setup:** Use the same data as Scenario 1.\n",
    "- **Expected:** p-value should be identical to the z-test. This confirms our methods."
   ]
  },
  {
   "cell_type": "code",
   "execution_count": null,
   "id": "d246a32d",
   "metadata": {},
   "outputs": [],
   "source": [
    "print(\"Re-running Scenario 1 data with Chi-Square Test\")\n",
    "n = 30000\n",
    "c_a, n_a = utils.generate_synthetic_data(n, 0.10)\n",
    "c_b, n_b = utils.generate_synthetic_data(n, 0.12)\n",
    "\n",
    "chi2_results = tester.chi_square_test(c_a, n_a, c_b, n_b)\n",
    "z_results = tester.proportion_z_test(c_a, n_a, c_b, n_b)\n",
    "\n",
    "print(f\"Z-Test p-value:    {z_results['p_value']}\")\n",
    "print(f\"Chi2-Test p-value: {chi2_results['p_value']}\")\n",
    "print(\"Result: They are effectively identical.\")"
   ]
  },
  {
   "cell_type": "markdown",
   "id": "4b641d1c",
   "metadata": {},
   "source": [
    "## 4. Part 3: Multiple Testing Correction\n",
    "\n",
    "What happens when we run an A/B/C/D test? We are testing:\n",
    "1. A vs B\n",
    "2. A vs C\n",
    "3. A vs D\n",
    "\n",
    "This increases our chance of a False Positive. We must correct for this."
   ]
  },
  {
   "cell_type": "markdown",
   "id": "75febd54",
   "metadata": {},
   "source": [
    "### Scenario 10: A/B/C Test with one winner\n",
    "- **Setup:** A (10%), B (12%), C (10%).\n",
    "- **Expected:** A vs B is significant, A vs C is not."
   ]
  },
  {
   "cell_type": "code",
   "execution_count": null,
   "id": "9734dccf",
   "metadata": {},
   "outputs": [],
   "source": [
    "n = 30000\n",
    "c_a, n_a = utils.generate_synthetic_data(n, 0.10)\n",
    "c_b, n_b = utils.generate_synthetic_data(n, 0.12)\n",
    "c_c, n_c = utils.generate_synthetic_data(n, 0.10)\n",
    "\n",
    "p_values = []\n",
    "p_values.append(tester.proportion_z_test(c_a, n_a, c_b, n_b)['p_value']) # A vs B\n",
    "p_values.append(tester.proportion_z_test(c_a, n_a, c_c, n_c)['p_value']) # A vs C\n",
    "\n",
    "print(f\"Original p-values: {p_values}\")\n",
    "\n",
    "corrector = MultipleTesting(p_values, alpha=ALPHA)\n",
    "\n",
    "bonferroni = corrector.bonferroni_correction()\n",
    "print(f\"\\nBonferroni Results: {bonferroni}\")\n",
    "\n",
    "fdr = corrector.benjamini_hochberg()\n",
    "print(f\"FDR (B-H) Results: {fdr}\")\n",
    "\n",
    "print(\"\\nInterpretation: Both methods correctly identify A vs B as significant and A vs C as not.\")"
   ]
  },
  {
   "cell_type": "markdown",
   "id": "96143857",
   "metadata": {},
   "source": [
    "### Scenario 11: A/B/C Test with a False Positive\n",
    "- **Setup:** A (10%), B (10%), C (10%). By chance, one might get p < 0.05.\n",
    "- **Expected:** Bonferroni/FDR correction should successfully screen out the false positive."
   ]
  },
  {
   "cell_type": "code",
   "execution_count": null,
   "id": "8f565b7f",
   "metadata": {},
   "outputs": [],
   "source": [
    "print(\"Running simulations to find a multi-test False Positive...\")\n",
    "n = 10000\n",
    "found_multi_fp = False\n",
    "for i in range(100):\n",
    "    c_a, n_a = utils.generate_synthetic_data(n, 0.10)\n",
    "    c_b, n_b = utils.generate_synthetic_data(n, 0.10)\n",
    "    c_c, n_c = utils.generate_synthetic_data(n, 0.10)\n",
    "\n",
    "    p_values = []\n",
    "    p_values.append(tester.proportion_z_test(c_a, n_a, c_b, n_b)['p_value'])\n",
    "    p_values.append(tester.proportion_z_test(c_a, n_a, c_c, n_c)['p_value'])\n",
    "    \n",
    "    if any(p < ALPHA for p in p_values):\n",
    "        print(f\"\\nFound a potential FP on run {i+1}!\")\n",
    "        print(f\"Original p-values: {p_values}\")\n",
    "        \n",
    "        corrector = MultipleTesting(p_values, alpha=ALPHA)\n",
    "        bonferroni = corrector.bonferroni_correction()\n",
    "        fdr = corrector.benjamini_hochberg()\n",
    "        \n",
    "        print(f\"Bonferroni Significant: {any(bonferroni['is_significant'])}\")\n",
    "        print(f\"FDR Significant: {any(fdr['is_significant'])}\")\n",
    "        \n",
    "        if not any(bonferroni['is_significant']) and not any(fdr['is_significant']):\n",
    "            print(\"SUCCESS: Correction methods prevented the False Positive.\")\n",
    "            found_multi_fp = True\n",
    "            break\n",
    "\n",
    "if not found_multi_fp:\n",
    "    print(\"\\nDid not find a clear example in 100 runs.\")"
   ]
  },
  {
   "cell_type": "markdown",
   "id": "d60ce9e5",
   "metadata": {},
   "source": [
    "### Scenario 12: Clear Negative Result (Inconclusive)\n",
    "- **Setup:** 10% CVR. Small lift (0.5%) and small sample (1000).\n",
    "- **Expected:** Not Statistically Significant. CI is very wide and overlaps 0. We are **inconclusive**."
   ]
  },
  {
   "cell_type": "code",
   "execution_count": null,
   "id": "0b172cdf",
   "metadata": {},
   "outputs": [],
   "source": [
    "n = 1000\n",
    "c_a, n_a = utils.generate_synthetic_data(n, 0.10)\n",
    "c_b, n_b = utils.generate_synthetic_data(n, 0.105)\n",
    "run_and_print_analysis(\"12. Inconclusive (Wide CI)\", n_a, n_b, c_a, c_b, mde_abs=0.01)"
   ]
  }
 ],
 "metadata": {
  "kernelspec": {
   "display_name": "Python 3 (ipykernel)",
   "language": "python",
   "name": "python3"
  },
  "language_info": {
   "codemirror_mode": {
    "name": "ipython",
    "version": 3
   },
   "file_extension": ".py",
   "mimetype": "text/x-python",
   "name": "python",
   "nbconvert_exporter": "python",
   "pygments_lexer": "ipython3",
   "version": "3.10.9"
  }
 },
 "nbformat": 4,
 "nbformat_minor": 5
}
